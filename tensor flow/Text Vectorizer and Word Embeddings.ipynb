{
 "cells": [
  {
   "cell_type": "markdown",
   "metadata": {
    "id": "CcomMS4hKkTQ"
   },
   "source": [
    "# 2. Text Vectorization in TensorFlow"
   ]
  },
  {
   "cell_type": "code",
   "execution_count": null,
   "metadata": {
    "id": "HRQVr9n6O6iw"
   },
   "outputs": [],
   "source": [
    "import tensorflow as tf\n",
    "import pandas as pd\n",
    "import tensorflow_datasets as tfds\n",
    "\n",
    "# Loading training data\n",
    "imdb_data = tfds.load(name=\"imdb_reviews\", split=\"train\")\n",
    "imdb_df = tfds.as_dataframe(imdb_data)\n",
    "imdb_df['text'] = imdb_df['text'].str.decode('utf-8')\n",
    "imdb_sample = imdb_df.sample(frac=0.2, random_state=100)\n",
    "\n",
    "X_train = imdb_sample['text']\n",
    "y_train = imdb_sample['label']"
   ]
  },
  {
   "cell_type": "code",
   "execution_count": null,
   "metadata": {
    "id": "FXw3xs_IO6sK"
   },
   "outputs": [],
   "source": [
    "# Loading testing data\n",
    "imdb_test = tfds.load(name=\"imdb_reviews\", split=\"test\")\n",
    "imdb_test_df = tfds.as_dataframe(imdb_test)\n",
    "imdb_test_df['text'] = imdb_test_df['text'].str.decode('utf-8')\n",
    "imdb_test_sample = imdb_test_df.sample(frac=0.2, random_state=100)\n",
    "\n",
    "X_test = imdb_test_sample['text']\n",
    "y_test = imdb_test_sample['label']"
   ]
  },
  {
   "cell_type": "code",
   "execution_count": null,
   "metadata": {
    "colab": {
     "base_uri": "https://localhost:8080/"
    },
    "id": "Lz-Zpfyl9XNk",
    "outputId": "4ac0f353-34fd-495a-c613-291313e503a3"
   },
   "outputs": [
    {
     "data": {
      "text/plain": [
       "1    2506\n",
       "0    2494\n",
       "Name: label, dtype: int64"
      ]
     },
     "execution_count": 3,
     "metadata": {},
     "output_type": "execute_result"
    }
   ],
   "source": [
    "# Target distribution\n",
    "imdb_test_sample['label'].value_counts()"
   ]
  },
  {
   "cell_type": "code",
   "execution_count": null,
   "metadata": {
    "colab": {
     "base_uri": "https://localhost:8080/"
    },
    "id": "MMtimVa59ZCE",
    "outputId": "c7f40bb6-468e-4ea9-8c6d-de8539b064cc"
   },
   "outputs": [
    {
     "data": {
      "text/plain": [
       "label    0\n",
       "text     0\n",
       "dtype: int64"
      ]
     },
     "execution_count": 4,
     "metadata": {},
     "output_type": "execute_result"
    }
   ],
   "source": [
    "# Check for missing values\n",
    "imdb_test_sample.isna().sum()"
   ]
  },
  {
   "cell_type": "markdown",
   "metadata": {
    "id": "HPAYyvMSPG1x"
   },
   "source": [
    "# 3. Creating the TextVectorizer Layer"
   ]
  },
  {
   "cell_type": "code",
   "execution_count": null,
   "metadata": {
    "id": "A7NY8HHVPFi-"
   },
   "outputs": [],
   "source": [
    "from tensorflow.keras.layers import TextVectorization\n",
    "\n",
    "max_tokens = 25000\n",
    "output_sequence_length = 256\n",
    "\n",
    "vectorizer_layer = TextVectorization(max_tokens=max_tokens,\n",
    "                                     output_mode='int',\n",
    "                                     standardize='lower',\n",
    "                                     output_sequence_length=output_sequence_length)\n",
    "\n",
    "vectorizer_layer.adapt(X_train)"
   ]
  },
  {
   "cell_type": "markdown",
   "metadata": {
    "id": "ZjzOV4-DPk_E"
   },
   "source": [
    "# 4. Building the Model with the Vectorized Layer"
   ]
  },
  {
   "cell_type": "code",
   "execution_count": null,
   "metadata": {
    "colab": {
     "base_uri": "https://localhost:8080/"
    },
    "id": "BvqCUcZrPFmI",
    "outputId": "29376744-dd68-41a1-8ccc-c5511c7d4f38"
   },
   "outputs": [
    {
     "name": "stdout",
     "output_type": "stream",
     "text": [
      "Epoch 1/10\n",
      "157/157 [==============================] - 1s 2ms/step - loss: 690.5369 - accuracy: 0.5084\n",
      "Epoch 2/10\n",
      "157/157 [==============================] - 0s 2ms/step - loss: 32.9394 - accuracy: 0.4984\n",
      "Epoch 3/10\n",
      "157/157 [==============================] - 0s 2ms/step - loss: 27.8380 - accuracy: 0.5162\n",
      "Epoch 4/10\n",
      "157/157 [==============================] - 0s 2ms/step - loss: 28.9621 - accuracy: 0.5004\n",
      "Epoch 5/10\n",
      "157/157 [==============================] - 0s 2ms/step - loss: 25.2356 - accuracy: 0.4980\n",
      "Epoch 6/10\n",
      "157/157 [==============================] - 0s 2ms/step - loss: 21.2950 - accuracy: 0.5152\n",
      "Epoch 7/10\n",
      "157/157 [==============================] - 0s 2ms/step - loss: 19.9154 - accuracy: 0.5170\n",
      "Epoch 8/10\n",
      "157/157 [==============================] - 0s 2ms/step - loss: 16.9722 - accuracy: 0.5146\n",
      "Epoch 9/10\n",
      "157/157 [==============================] - 0s 2ms/step - loss: 13.6325 - accuracy: 0.5040\n",
      "Epoch 10/10\n",
      "157/157 [==============================] - 0s 2ms/step - loss: 13.5297 - accuracy: 0.5174\n",
      "157/157 [==============================] - 0s 2ms/step - loss: 13.2806 - accuracy: 0.4934\n",
      "Test set accuracy: 0.4934000074863434\n"
     ]
    }
   ],
   "source": [
    "from tensorflow.keras.models import Sequential\n",
    "from tensorflow.keras import Input, layers\n",
    "\n",
    "model = Sequential()\n",
    "model.add(Input(shape=(1,), dtype=tf.string))\n",
    "model.add(vectorizer_layer)\n",
    "model.add(layers.Dense(16))\n",
    "model.add(layers.Dense(1, activation='sigmoid'))\n",
    "\n",
    "opt = tf.optimizers.Adam(learning_rate=0.01)\n",
    "model.compile(loss='binary_crossentropy', optimizer=opt, metrics=['accuracy'])\n",
    "\n",
    "model.fit(X_train, y_train, epochs=10)\n",
    "test_loss, test_acc = model.evaluate(X_test, y_test)\n",
    "print(f\"Test set accuracy: {test_acc}\")"
   ]
  },
  {
   "cell_type": "markdown",
   "metadata": {
    "id": "1kcveeYfP2VI"
   },
   "source": [
    "# 5. Create an Embedding Layer"
   ]
  },
  {
   "cell_type": "code",
   "execution_count": null,
   "metadata": {
    "id": "TPDhuejcP7Nr"
   },
   "outputs": [],
   "source": [
    "output_dim = 128\n",
    "\n",
    "from tensorflow.keras.layers import Embedding\n",
    "\n",
    "embedding_layer = Embedding(input_dim=max_tokens,\n",
    "                            output_dim=output_dim,\n",
    "                            input_length=output_sequence_length)"
   ]
  },
  {
   "cell_type": "markdown",
   "metadata": {
    "id": "S8pSjfABQDtf"
   },
   "source": [
    "# 6. Text Classification Model with Embedding Layer"
   ]
  },
  {
   "cell_type": "code",
   "execution_count": null,
   "metadata": {
    "colab": {
     "base_uri": "https://localhost:8080/"
    },
    "id": "DXww-ttCQIqW",
    "outputId": "06a9be6c-18a5-40db-dcdb-add430c79727",
    "scrolled": false
   },
   "outputs": [
    {
     "name": "stdout",
     "output_type": "stream",
     "text": [
      "Epoch 1/10\n",
      "157/157 [==============================] - 6s 33ms/step - loss: 0.6874 - accuracy: 0.5340\n",
      "Epoch 2/10\n",
      "157/157 [==============================] - 5s 33ms/step - loss: 0.6791 - accuracy: 0.5498\n",
      "Epoch 3/10\n",
      "157/157 [==============================] - 5s 33ms/step - loss: 0.6744 - accuracy: 0.5570\n",
      "Epoch 4/10\n",
      "157/157 [==============================] - 4s 28ms/step - loss: 0.6724 - accuracy: 0.5599\n",
      "Epoch 5/10\n",
      "157/157 [==============================] - 5s 29ms/step - loss: 0.6717 - accuracy: 0.5588\n",
      "Epoch 6/10\n",
      "157/157 [==============================] - 5s 32ms/step - loss: 0.6711 - accuracy: 0.5582\n",
      "Epoch 7/10\n",
      "157/157 [==============================] - 4s 29ms/step - loss: 0.6704 - accuracy: 0.5608\n",
      "Epoch 8/10\n",
      "157/157 [==============================] - 5s 33ms/step - loss: 0.6701 - accuracy: 0.5606\n",
      "Epoch 9/10\n",
      "157/157 [==============================] - 5s 29ms/step - loss: 0.6696 - accuracy: 0.5615\n",
      "Epoch 10/10\n",
      "157/157 [==============================] - 5s 29ms/step - loss: 0.6692 - accuracy: 0.5564\n",
      "157/157 [==============================] - 1s 8ms/step - loss: 0.6998 - accuracy: 0.5326\n"
     ]
    },
    {
     "data": {
      "text/plain": [
       "[0.6997720003128052, 0.5326390862464905]"
      ]
     },
     "execution_count": 8,
     "metadata": {},
     "output_type": "execute_result"
    }
   ],
   "source": [
    "vectorizer_layer = TextVectorization(max_tokens=max_tokens,\n",
    "                                     output_mode='int',\n",
    "                                     standardize='lower_and_strip_punctuation',\n",
    "                                     ngrams=(1, 2),\n",
    "                                     output_sequence_length=output_sequence_length)\n",
    "\n",
    "vectorizer_layer.adapt(X_train)\n",
    "embedding_layer = Embedding(input_dim=max_tokens,\n",
    "                            output_dim=output_dim,\n",
    "                            input_length=output_sequence_length)\n",
    "\n",
    "model = tf.keras.models.Sequential()\n",
    "model.add(tf.keras.Input(shape=(1,), dtype=tf.string))\n",
    "model.add(vectorizer_layer)\n",
    "model.add(embedding_layer)\n",
    "model.add(tf.keras.layers.Dense(16, activation='relu'))\n",
    "model.add(tf.keras.layers.Dense(1, activation='sigmoid'))\n",
    "\n",
    "opt = tf.optimizers.Adam(learning_rate=0.01)\n",
    "model.compile(loss='binary_crossentropy', optimizer=opt, metrics=['accuracy'])\n",
    "\n",
    "model.fit(X_train, y_train, epochs=10)\n",
    "test_loss, test_acc = model.evaluate(X_test, y_test)\n",
    "print(f\"Test set accuracy: {test_acc}\")"
   ]
  }
 ],
 "metadata": {
  "colab": {
   "provenance": []
  },
  "kernelspec": {
   "display_name": "Python 3 (ipykernel)",
   "language": "python",
   "name": "python3"
  },
  "language_info": {
   "codemirror_mode": {
    "name": "ipython",
    "version": 3
   },
   "file_extension": ".py",
   "mimetype": "text/x-python",
   "name": "python",
   "nbconvert_exporter": "python",
   "pygments_lexer": "ipython3",
   "version": "3.10.6"
  }
 },
 "nbformat": 4,
 "nbformat_minor": 0
}
